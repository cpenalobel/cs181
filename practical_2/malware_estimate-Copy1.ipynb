{
 "cells": [
  {
   "cell_type": "code",
   "execution_count": 63,
   "metadata": {
    "collapsed": false
   },
   "outputs": [],
   "source": [
    "from sklearn.ensemble import RandomForestClassifier, RandomForestRegressor\n",
    "from sklearn.grid_search import GridSearchCV\n",
    "from sklearn.metrics import accuracy_score\n",
    "import functions\n",
    "from collections import Counter\n",
    "import numpy as np\n",
    "\n",
    "TRAIN_DIR = \"train\"\n",
    "TEST_DIR = \"test\"\n",
    "\n",
    "call_set = set([])"
   ]
  },
  {
   "cell_type": "code",
   "execution_count": 69,
   "metadata": {
    "collapsed": true
   },
   "outputs": [],
   "source": [
    "def predictAccuracy(y1, y2, cutoff = .5):\n",
    "    return sum([a == (b >= cutoff) for a,b in zip(y1,y2)]) / float(len(y1))\n",
    "\n",
    "def cv_optimize(clf, parameters, X, y, n_jobs, n_folds, score_func, verbose):\n",
    "    gs = GridSearchCV(clf, param_grid=parameters, cv=n_folds, n_jobs=n_jobs, verbose=verbose, scoring=score_func)\n",
    "    gs.fit(X, y)\n",
    "    print \"BEST\", gs.best_params_, gs.best_score_, gs.grid_scores_\n",
    "    best = gs.best_estimator_\n",
    "    return best, gs.best_params_\n",
    "\n",
    "def do_classify(clf, parameters, X, y, mask=None, n_folds=5, n_jobs=4, verbose=False, score_func=None):\n",
    "    if mask is None:\n",
    "        print \"Test\"\n",
    "        mask = split_mask(X)\n",
    "    X_train, X_cv, y_train, y_cv = X[mask], X[~mask], y[mask], y[~mask]\n",
    "    clf, best_params_ = cv_optimize(clf, parameters, X_train, y_train, n_jobs=n_jobs, n_folds=n_folds, verbose=verbose, score_func=score_func)\n",
    "    clf=clf.fit(X_train, y_train)\n",
    "    train_preds = clf.predict(X_train)\n",
    "    cv_preds = clf.predict(X_cv)\n",
    "    training_accuracy = predictAccuracy(y_train, train_preds, .5)\n",
    "    cv_accuracy = predictAccuracy(y_cv, cv_preds)\n",
    "    print \"Training classes\"\n",
    "    print training_accuracy\n",
    "    print \"############# based on standard predict ################\"\n",
    "    print \"Accuracy on training data: %0.4f\" % training_accuracy, predictAccuracy(y_train, train_preds, .45), predictAccuracy(y_train, train_preds, .55)\n",
    "    print \"Accuracy on crossv data:   %0.4f\" % cv_accuracy, predictAccuracy(y_cv, cv_preds, .45), predictAccuracy(y_cv, cv_preds, .55)\n",
    "    print \"########################################################\"\n",
    "    return clf, X_train, y_train, X_cv, y_cv, best_params_"
   ]
  },
  {
   "cell_type": "code",
   "execution_count": 6,
   "metadata": {
    "collapsed": false
   },
   "outputs": [
    {
     "name": "stdout",
     "output_type": "stream",
     "text": [
      "Number of datafiles loaded: 3087\n"
     ]
    }
   ],
   "source": [
    "X, y, ids = functions.create_data_matrix(direc=TRAIN_DIR, verbose=True)\n",
    "#X_test, y_test, test_ids = functions.create_data_matrix(direc=TEST_DIR, verbose=True)"
   ]
  },
  {
   "cell_type": "code",
   "execution_count": 7,
   "metadata": {
    "collapsed": false
   },
   "outputs": [],
   "source": [
    "mask = functions.split_mask(X)"
   ]
  },
  {
   "cell_type": "code",
   "execution_count": 31,
   "metadata": {
    "collapsed": true
   },
   "outputs": [],
   "source": [
    "clfForest = RandomForestClassifier()\n",
    "clfForestRegressor = RandomForestRegressor()\n",
    "parameters = {\n",
    "#    \"n_estimators\" : [100],\n",
    "    \"n_estimators\" : [100,200,400,800],\n",
    "#    \"max_depth\": [25]\n",
    "    \"max_depth\": [100,200,400,None]\n",
    "}"
   ]
  },
  {
   "cell_type": "code",
   "execution_count": 26,
   "metadata": {
    "collapsed": false
   },
   "outputs": [
    {
     "name": "stdout",
     "output_type": "stream",
     "text": [
      "Fitting 3 folds for each of 16 candidates, totalling 48 fits\n",
      "BEST {'n_estimators': 200, 'max_depth': 200} 0.747105141269 [mean: 0.74572, std: 0.00525, params: {'n_estimators': 100, 'max_depth': 100}, mean: 0.74340, std: 0.00724, params: {'n_estimators': 200, 'max_depth': 100}, mean: 0.74479, std: 0.00466, params: {'n_estimators': 400, 'max_depth': 100}, mean: 0.74618, std: 0.00416, params: {'n_estimators': 800, 'max_depth': 100}, mean: 0.74479, std: 0.00466, params: {'n_estimators': 100, 'max_depth': 200}, mean: 0.74711, std: 0.00244, params: {'n_estimators': 200, 'max_depth': 200}, mean: 0.74572, std: 0.00355, params: {'n_estimators': 400, 'max_depth': 200}, mean: 0.74618, std: 0.00353, params: {'n_estimators': 800, 'max_depth': 200}, mean: 0.74618, std: 0.00426, params: {'n_estimators': 100, 'max_depth': 400}, mean: 0.74433, std: 0.00598, params: {'n_estimators': 200, 'max_depth': 400}, mean: 0.74479, std: 0.00240, params: {'n_estimators': 400, 'max_depth': 400}, mean: 0.74525, std: 0.00363, params: {'n_estimators': 800, 'max_depth': 400}, mean: 0.74572, std: 0.00413, params: {'n_estimators': 100, 'max_depth': None}, mean: 0.74479, std: 0.00353, params: {'n_estimators': 200, 'max_depth': None}, mean: 0.74433, std: 0.00489, params: {'n_estimators': 400, 'max_depth': None}, mean: 0.74618, std: 0.00466, params: {'n_estimators': 800, 'max_depth': None}]\n",
      "Training classes\n",
      "0.809634089856\n",
      "############# based on standard predict ################\n",
      "Accuracy on training data: 0.8096\n",
      "Accuracy on crossv data:   0.7246\n",
      "########################################################\n",
      "Wall time: 51.8 s\n"
     ]
    },
    {
     "name": "stderr",
     "output_type": "stream",
     "text": [
      "[Parallel(n_jobs=1)]: Done  48 out of  48 | elapsed:   50.5s finished\n"
     ]
    }
   ],
   "source": [
    "%%time\n",
    "clfForest, _, _, _, _, best_params = do_classify(clfForest, parameters, X, y, mask=mask, n_folds = 3, n_jobs = 1, verbose=True, score_func='accuracy')\n",
    "\n",
    "#preds = clfForest.predict(X_test)\n",
    "#write_to_file(\"submissions/RandForest.csv\", test_ids, preds)"
   ]
  },
  {
   "cell_type": "code",
   "execution_count": 27,
   "metadata": {
    "collapsed": false
   },
   "outputs": [
    {
     "name": "stdout",
     "output_type": "stream",
     "text": [
      "Fitting 3 folds for each of 1 candidates, totalling 3 fits\n",
      "BEST {} 0.746641963872 [mean: 0.74664, std: 0.00409, params: {}]\n",
      "Training classes\n",
      "0.809634089856\n",
      "############# based on standard predict ################\n",
      "Accuracy on training data: 0.8096\n",
      "Accuracy on crossv data:   0.7246\n",
      "########################################################\n",
      "Wall time: 2.67 s\n"
     ]
    },
    {
     "name": "stderr",
     "output_type": "stream",
     "text": [
      "[Parallel(n_jobs=1)]: Done   3 out of   3 | elapsed:    1.4s finished\n"
     ]
    }
   ],
   "source": [
    "%%time\n",
    "clfForest_, _, _, _, _, best_params = do_classify(clfForest, {}, X, y, mask=mask, n_folds = 3, n_jobs = 1, verbose=True, score_func='accuracy')\n",
    "\n",
    "#preds = clfForest.predict(X_test)\n",
    "#write_to_file(\"submissions/RandForest.csv\", test_ids, preds)"
   ]
  },
  {
   "cell_type": "code",
   "execution_count": 28,
   "metadata": {
    "collapsed": false
   },
   "outputs": [
    {
     "name": "stdout",
     "output_type": "stream",
     "text": [
      "[ 0.47416268  0.52583732]\n",
      "[ 0.47970245  0.52029755]\n"
     ]
    }
   ],
   "source": [
    "print clfForest.feature_importances_\n",
    "print clfForest_.feature_importances_"
   ]
  },
  {
   "cell_type": "code",
   "execution_count": 44,
   "metadata": {
    "collapsed": false
   },
   "outputs": [
    {
     "data": {
      "text/plain": [
       "Counter({0: 114,\n",
       "         1: 50,\n",
       "         2: 37,\n",
       "         3: 31,\n",
       "         4: 41,\n",
       "         5: 39,\n",
       "         6: 53,\n",
       "         7: 41,\n",
       "         8: 1609,\n",
       "         9: 21,\n",
       "         10: 542,\n",
       "         11: 32,\n",
       "         12: 376,\n",
       "         13: 59,\n",
       "         14: 40})"
      ]
     },
     "execution_count": 44,
     "metadata": {},
     "output_type": "execute_result"
    }
   ],
   "source": [
    "Counter(y)"
   ]
  },
  {
   "cell_type": "code",
   "execution_count": 65,
   "metadata": {
    "collapsed": false
   },
   "outputs": [],
   "source": [
    "y_morphed = np.array([0 if y_ == 8 else 1 for y_ in y])"
   ]
  },
  {
   "cell_type": "code",
   "execution_count": 91,
   "metadata": {
    "collapsed": true
   },
   "outputs": [],
   "source": [
    "y_lists = []\n",
    "for y_ in range(15):\n",
    "    y_lists.append(np.array([1 if y__ == y_ else 0 for y__ in y]))"
   ]
  },
  {
   "cell_type": "code",
   "execution_count": 92,
   "metadata": {
    "collapsed": false
   },
   "outputs": [
    {
     "name": "stdout",
     "output_type": "stream",
     "text": [
      "Counter({0: 2971, 1: 114})\n",
      "Counter({0: 3035, 1: 50})\n",
      "Counter({0: 3048, 1: 37})\n",
      "Counter({0: 3054, 1: 31})\n",
      "Counter({0: 3044, 1: 41})\n",
      "Counter({0: 3046, 1: 39})\n",
      "Counter({0: 3032, 1: 53})\n",
      "Counter({0: 3044, 1: 41})\n",
      "Counter({1: 1609, 0: 1476})\n",
      "Counter({0: 3064, 1: 21})\n",
      "Counter({0: 2543, 1: 542})\n",
      "Counter({0: 3053, 1: 32})\n",
      "Counter({0: 2709, 1: 376})\n",
      "Counter({0: 3026, 1: 59})\n",
      "Counter({0: 3045, 1: 40})\n"
     ]
    }
   ],
   "source": [
    "for lst in y_lists:\n",
    "    print Counter(lst)"
   ]
  },
  {
   "cell_type": "code",
   "execution_count": null,
   "metadata": {
    "collapsed": true
   },
   "outputs": [],
   "source": [
    "#DEFINE X_TEST"
   ]
  },
  {
   "cell_type": "code",
   "execution_count": null,
   "metadata": {
    "collapsed": true
   },
   "outputs": [],
   "source": [
    "%%time\n",
    "preds = []\n",
    "for lst in y_lists:\n",
    "    if \n",
    "    clfForest_test, _, _, _, _, best_params = do_classify(clfForestRegressor, {}, X, lst, mask=mask, n_folds = 3, n_jobs = 1, verbose=True)\n",
    "    preds.append(clfForest_test(X_test))"
   ]
  },
  {
   "cell_type": "code",
   "execution_count": null,
   "metadata": {
    "collapsed": true
   },
   "outputs": [],
   "source": [
    "preds_ = np.array(preds)\n",
    "preds__ = []\n",
    "for p in preds_:\n",
    "#for p in zip(*preds_):    \n",
    "    preds__.append(map_[np.argmax(p)])\n",
    "preds__ = np.array(preds__)"
   ]
  },
  {
   "cell_type": "code",
   "execution_count": null,
   "metadata": {
    "collapsed": true
   },
   "outputs": [],
   "source": [
    "# We have predictions!!!!"
   ]
  }
 ],
 "metadata": {
  "kernelspec": {
   "display_name": "Python 2",
   "language": "python",
   "name": "python2"
  },
  "language_info": {
   "codemirror_mode": {
    "name": "ipython",
    "version": 2
   },
   "file_extension": ".py",
   "mimetype": "text/x-python",
   "name": "python",
   "nbconvert_exporter": "python",
   "pygments_lexer": "ipython2",
   "version": "2.7.11"
  }
 },
 "nbformat": 4,
 "nbformat_minor": 0
}
