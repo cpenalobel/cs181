{
 "cells": [
  {
   "cell_type": "code",
   "execution_count": 147,
   "metadata": {
    "collapsed": false
   },
   "outputs": [],
   "source": [
    "from sklearn.ensemble import RandomForestClassifier, RandomForestRegressor\n",
    "from sklearn.preprocessing import PolynomialFeatures\n",
    "from sklearn.grid_search import GridSearchCV\n",
    "from sklearn.metrics import accuracy_score\n",
    "import functions\n",
    "from collections import Counter\n",
    "import numpy as np\n",
    "import pandas as pd\n",
    "import matplotlib as mpl\n",
    "import matplotlib.cm as cm\n",
    "import matplotlib.pyplot as plt\n",
    "import seaborn as sns\n",
    "sns.set_style(\"whitegrid\")\n",
    "sns.set_context(\"poster\")\n",
    "%matplotlib inline\n",
    "\n",
    "TRAIN_DIR = \"train\"\n",
    "TEST_DIR = \"test\""
   ]
  },
  {
   "cell_type": "code",
   "execution_count": 26,
   "metadata": {
    "collapsed": true
   },
   "outputs": [],
   "source": [
    "def predictAccuracy(y1, y2, cutoff = .5):\n",
    "    return sum([a == (b >= cutoff) for a,b in zip(y1,y2)]) / float(len(y1))\n",
    "\n",
    "def cv_optimize(clf, parameters, X, y, n_jobs, n_folds, score_func, verbose):\n",
    "    gs = GridSearchCV(clf, param_grid=parameters, cv=n_folds, n_jobs=n_jobs, verbose=verbose, scoring=score_func)\n",
    "    gs.fit(X, y)\n",
    "    print \"BEST\", gs.best_params_, gs.best_score_, gs.grid_scores_\n",
    "    best = gs.best_estimator_\n",
    "    return best, gs.best_params_\n",
    "\n",
    "def do_classify(clf, parameters, X, y, mask=None, n_folds=5, n_jobs=4, verbose=False, score_func=None):\n",
    "    if mask is None:\n",
    "        print \"Test\"\n",
    "        mask = split_mask(X)\n",
    "    X_train, X_cv, y_train, y_cv = X[mask], X[~mask], y[mask], y[~mask]\n",
    "    clf, best_params_ = cv_optimize(clf, parameters, X_train, y_train, n_jobs=n_jobs, n_folds=n_folds, verbose=verbose, score_func=score_func)\n",
    "    clf=clf.fit(X_train, y_train)\n",
    "    train_preds = clf.predict(X_train)\n",
    "    cv_preds = clf.predict(X_cv)\n",
    "    training_accuracy = predictAccuracy(y_train, train_preds, .5)\n",
    "    cv_accuracy = predictAccuracy(y_cv, cv_preds)\n",
    "    if verbose:\n",
    "        print \"Training classes\"\n",
    "        print training_accuracy\n",
    "        print \"############# based on standard predict ################\"\n",
    "        print \"Accuracy on training data: %0.4f\" % training_accuracy\n",
    "        print \"Accuracy on crossv data:   %0.4f\" % cv_accuracy\n",
    "        print \"########################################################\"\n",
    "    return clf, X_train, y_train, X_cv, y_cv, best_params_"
   ]
  },
  {
   "cell_type": "code",
   "execution_count": 27,
   "metadata": {
    "collapsed": false,
    "scrolled": false
   },
   "outputs": [
    {
     "name": "stdout",
     "output_type": "stream",
     "text": [
      "Number of datafiles loaded: 3086\n"
     ]
    }
   ],
   "source": [
    "X, y, ids, call_list = functions.create_data_matrix(direc=TRAIN_DIR, verbose=True)"
   ]
  },
  {
   "cell_type": "code",
   "execution_count": 122,
   "metadata": {
    "collapsed": false,
    "scrolled": true
   },
   "outputs": [
    {
     "data": {
      "text/plain": [
       "Counter({'accept_socket': 1,\n",
       "         'add_netjob': 1,\n",
       "         'all_section': 1,\n",
       "         'bind_socket': 1,\n",
       "         'change_service_config': 1,\n",
       "         'check_for_debugger': 1,\n",
       "         'com_create_instance': 1,\n",
       "         'com_createole_object': 1,\n",
       "         'com_get_class_object': 1,\n",
       "         'connect': 1,\n",
       "         'connect_socket': 1,\n",
       "         'control_service': 1,\n",
       "         'copy_file': 1,\n",
       "         'create_directory': 1,\n",
       "         'create_file': 1,\n",
       "         'create_interface': 1,\n",
       "         'create_key': 1,\n",
       "         'create_mailslot': 1,\n",
       "         'create_mutex': 1,\n",
       "         'create_namedpipe': 1,\n",
       "         'create_open_file': 1,\n",
       "         'create_process': 1,\n",
       "         'create_process_as_user': 1,\n",
       "         'create_process_nt': 1,\n",
       "         'create_service': 1,\n",
       "         'create_socket': 1,\n",
       "         'create_thread': 1,\n",
       "         'create_thread_remote': 1,\n",
       "         'create_window': 1,\n",
       "         'delete_file': 1,\n",
       "         'delete_key': 1,\n",
       "         'delete_service': 1,\n",
       "         'delete_share': 1,\n",
       "         'delete_value': 1,\n",
       "         'destroy_window': 1,\n",
       "         'download_file': 1,\n",
       "         'download_file_to_cache': 1,\n",
       "         'dump_line': 1,\n",
       "         'enum_handles': 1,\n",
       "         'enum_items': 1,\n",
       "         'enum_keys': 1,\n",
       "         'enum_modules': 1,\n",
       "         'enum_processes': 1,\n",
       "         'enum_services': 1,\n",
       "         'enum_share': 1,\n",
       "         'enum_subtypes': 1,\n",
       "         'enum_types': 1,\n",
       "         'enum_user': 1,\n",
       "         'enum_values': 1,\n",
       "         'enum_window': 1,\n",
       "         'exit_windows': 1,\n",
       "         'find_file': 1,\n",
       "         'find_window': 1,\n",
       "         'get_computer_name': 1,\n",
       "         'get_file_attributes': 1,\n",
       "         'get_host_by_addr': 1,\n",
       "         'get_host_by_name': 1,\n",
       "         'get_system_directory': 1,\n",
       "         'get_system_time': 1,\n",
       "         'get_userinfo': 1,\n",
       "         'get_username': 1,\n",
       "         'get_windows_directory': 1,\n",
       "         'impersonate_user': 1,\n",
       "         'kill_process': 1,\n",
       "         'listen_socket': 1,\n",
       "         'load_dll': 1,\n",
       "         'load_driver': 1,\n",
       "         'load_image': 1,\n",
       "         'logon_as_user': 1,\n",
       "         'message': 1,\n",
       "         'move_file': 1,\n",
       "         'open_file': 1,\n",
       "         'open_key': 1,\n",
       "         'open_mutex': 1,\n",
       "         'open_process': 1,\n",
       "         'open_scmanager': 1,\n",
       "         'open_service': 1,\n",
       "         'open_url': 1,\n",
       "         'process': 1,\n",
       "         'processes': 1,\n",
       "         'query_value': 1,\n",
       "         'read_section': 1,\n",
       "         'read_section_names': 1,\n",
       "         'read_value': 1,\n",
       "         'recv_socket': 1,\n",
       "         'remove_directory': 1,\n",
       "         'revert_to_self': 1,\n",
       "         'send_socket': 1,\n",
       "         'set_file_attributes': 1,\n",
       "         'set_file_time': 1,\n",
       "         'set_system_time': 1,\n",
       "         'set_thread_context': 1,\n",
       "         'set_value': 1,\n",
       "         'set_windows_hook': 1,\n",
       "         'show_window': 1,\n",
       "         'sleep': 1,\n",
       "         'start_service': 1,\n",
       "         'thread': 1,\n",
       "         'trimmed_bytes': 1,\n",
       "         'unload_driver': 1,\n",
       "         'vm_allocate': 1,\n",
       "         'vm_mapviewofsection': 1,\n",
       "         'vm_protect': 1,\n",
       "         'vm_read': 1,\n",
       "         'vm_write': 1,\n",
       "         'write_value': 1})"
      ]
     },
     "execution_count": 122,
     "metadata": {},
     "output_type": "execute_result"
    }
   ],
   "source": [
    "Counter(call_list)"
   ]
  },
  {
   "cell_type": "code",
   "execution_count": 28,
   "metadata": {
    "collapsed": false
   },
   "outputs": [
    {
     "data": {
      "text/plain": [
       "(3086L, 106L)"
      ]
     },
     "execution_count": 28,
     "metadata": {},
     "output_type": "execute_result"
    }
   ],
   "source": [
    "X.shape"
   ]
  },
  {
   "cell_type": "code",
   "execution_count": 52,
   "metadata": {
    "collapsed": false
   },
   "outputs": [],
   "source": [
    "mask = functions.split_mask(X, .99)"
   ]
  },
  {
   "cell_type": "code",
   "execution_count": 75,
   "metadata": {
    "collapsed": false
   },
   "outputs": [],
   "source": [
    "poly = PolynomialFeatures(2, interaction_only=True)"
   ]
  },
  {
   "cell_type": "code",
   "execution_count": 97,
   "metadata": {
    "collapsed": false
   },
   "outputs": [],
   "source": [
    "X_ = poly.fit_transform(X)"
   ]
  },
  {
   "cell_type": "code",
   "execution_count": 79,
   "metadata": {
    "collapsed": true
   },
   "outputs": [],
   "source": [
    "clfForest = RandomForestClassifier()\n",
    "clfForestRegressor = RandomForestRegressor()\n",
    "parameters = {\n",
    "#    \"n_estimators\" : [100],\n",
    "#    \"n_estimators\" : [100,200,400,800],\n",
    "#    \"max_depth\": [25]\n",
    "#    \"max_depth\": [100,200,400,None]\n",
    "}"
   ]
  },
  {
   "cell_type": "code",
   "execution_count": 80,
   "metadata": {
    "collapsed": false
   },
   "outputs": [],
   "source": [
    "y_morphed = np.array([0 if y_ == 8 else 1 for y_ in y])"
   ]
  },
  {
   "cell_type": "code",
   "execution_count": 81,
   "metadata": {
    "collapsed": true
   },
   "outputs": [],
   "source": [
    "y_lists = []\n",
    "for y_ in range(15):\n",
    "    y_lists.append(np.array([1 if y__ == y_ else 0 for y__ in y]))"
   ]
  },
  {
   "cell_type": "code",
   "execution_count": 98,
   "metadata": {
    "collapsed": false,
    "scrolled": true
   },
   "outputs": [
    {
     "name": "stdout",
     "output_type": "stream",
     "text": [
      "Fitting 3 folds for each of 1 candidates, totalling 3 fits\n",
      "BEST {} 0.136426895321 [mean: 0.13643, std: 0.08803, params: {}]\n",
      "Training classes\n",
      "0.996399345336\n",
      "############# based on standard predict ################\n",
      "Accuracy on training data: 0.9964\n",
      "Accuracy on crossv data:   1.0000\n",
      "########################################################\n",
      "Fitting 3 folds for each of 1 candidates, totalling 3 fits"
     ]
    },
    {
     "name": "stderr",
     "output_type": "stream",
     "text": [
      "[Parallel(n_jobs=1)]: Done   3 out of   3 | elapsed:  1.1min finished\n",
      "[Parallel(n_jobs=1)]: Done   3 out of   3 | elapsed:   29.2s finished\n"
     ]
    },
    {
     "name": "stdout",
     "output_type": "stream",
     "text": [
      "\n",
      "BEST {} 0.47515493258 [mean: 0.47515, std: 0.05926, params: {}]\n",
      "Training classes\n",
      "0.998036006547\n",
      "############# based on standard predict ################\n",
      "Accuracy on training data: 0.9980\n",
      "Accuracy on crossv data:   1.0000\n",
      "########################################################\n",
      "Fitting 3 folds for each of 1 candidates, totalling 3 fits\n",
      "BEST {} 0.443198013091 [mean: 0.44320, std: 0.15280, params: {}]\n",
      "Training classes\n",
      "0.999672667758\n",
      "############# based on standard predict ################\n",
      "Accuracy on training data: 0.9997\n",
      "Accuracy on crossv data:   0.9677\n",
      "########################################################\n",
      "Fitting 3 folds for each of 1 candidates, totalling 3 fits"
     ]
    },
    {
     "name": "stderr",
     "output_type": "stream",
     "text": [
      "[Parallel(n_jobs=1)]: Done   3 out of   3 | elapsed:   25.1s finished\n",
      "[Parallel(n_jobs=1)]: Done   3 out of   3 | elapsed:   17.3s finished\n"
     ]
    },
    {
     "name": "stdout",
     "output_type": "stream",
     "text": [
      "\n",
      "BEST {} 0.673394063241 [mean: 0.67339, std: 0.09146, params: {}]\n",
      "Training classes\n",
      "1.0\n",
      "############# based on standard predict ################\n",
      "Accuracy on training data: 1.0000\n",
      "Accuracy on crossv data:   1.0000\n",
      "########################################################\n",
      "Fitting 3 folds for each of 1 candidates, totalling 3 fits\n",
      "BEST {} 0.286276393439 [mean: 0.28628, std: 0.10291, params: {}]\n",
      "Training classes\n",
      "0.999018003273\n",
      "############# based on standard predict ################\n",
      "Accuracy on training data: 0.9990\n",
      "Accuracy on crossv data:   1.0000\n",
      "########################################################\n",
      "Fitting 3 folds for each of 1 candidates, totalling 3 fits"
     ]
    },
    {
     "name": "stderr",
     "output_type": "stream",
     "text": [
      "[Parallel(n_jobs=1)]: Done   3 out of   3 | elapsed:   23.1s finished\n",
      "[Parallel(n_jobs=1)]: Done   3 out of   3 | elapsed:   25.1s finished\n"
     ]
    },
    {
     "name": "stdout",
     "output_type": "stream",
     "text": [
      "\n",
      "BEST {} 0.472050534032 [mean: 0.47205, std: 0.15437, params: {}]\n",
      "Training classes\n",
      "0.998363338789\n",
      "############# based on standard predict ################\n",
      "Accuracy on training data: 0.9984\n",
      "Accuracy on crossv data:   1.0000\n",
      "########################################################\n",
      "Fitting 3 folds for each of 1 candidates, totalling 3 fits\n",
      "BEST {} 0.886354576895 [mean: 0.88635, std: 0.00649, params: {}]\n",
      "Training classes\n",
      "1.0\n",
      "############# based on standard predict ################\n",
      "Accuracy on training data: 1.0000\n",
      "Accuracy on crossv data:   1.0000\n",
      "########################################################\n",
      "Fitting 3 folds for each of 1 candidates, totalling 3 fits"
     ]
    },
    {
     "name": "stderr",
     "output_type": "stream",
     "text": [
      "[Parallel(n_jobs=1)]: Done   3 out of   3 | elapsed:    5.5s finished\n",
      "[Parallel(n_jobs=1)]: Done   3 out of   3 | elapsed:   16.7s finished\n"
     ]
    },
    {
     "name": "stdout",
     "output_type": "stream",
     "text": [
      "\n",
      "BEST {} 0.714581996239 [mean: 0.71458, std: 0.05544, params: {}]\n",
      "Training classes\n",
      "0.999345335516\n",
      "############# based on standard predict ################\n",
      "Accuracy on training data: 0.9993\n",
      "Accuracy on crossv data:   1.0000\n",
      "########################################################\n",
      "Fitting 3 folds for each of 1 candidates, totalling 3 fits\n",
      "BEST {} 0.776821653544 [mean: 0.77682, std: 0.01311, params: {}]\n",
      "Training classes\n",
      "0.988543371522\n",
      "############# based on standard predict ################\n",
      "Accuracy on training data: 0.9885\n",
      "Accuracy on crossv data:   0.9355\n",
      "########################################################\n",
      "Fitting 3 folds for each of 1 candidates, totalling 3 fits"
     ]
    },
    {
     "name": "stderr",
     "output_type": "stream",
     "text": [
      "[Parallel(n_jobs=1)]: Done   3 out of   3 | elapsed:   33.0s finished\n",
      "[Parallel(n_jobs=1)]: Done   3 out of   3 | elapsed:   15.2s finished\n"
     ]
    },
    {
     "name": "stdout",
     "output_type": "stream",
     "text": [
      "\n",
      "BEST {} -0.0390091158632 [mean: -0.03901, std: 0.17664, params: {}]\n",
      "Training classes\n",
      "0.998363338789\n",
      "############# based on standard predict ################\n",
      "Accuracy on training data: 0.9984\n",
      "Accuracy on crossv data:   1.0000\n",
      "########################################################\n",
      "Fitting 3 folds for each of 1 candidates, totalling 3 fits\n",
      "BEST {} 0.967728033697 [mean: 0.96773, std: 0.01470, params: {}]\n",
      "Training classes\n",
      "1.0\n",
      "############# based on standard predict ################\n",
      "Accuracy on training data: 1.0000\n",
      "Accuracy on crossv data:   1.0000\n",
      "########################################################\n",
      "Fitting 3 folds for each of 1 candidates, totalling 3 fits"
     ]
    },
    {
     "name": "stderr",
     "output_type": "stream",
     "text": [
      "[Parallel(n_jobs=1)]: Done   3 out of   3 | elapsed:   11.6s finished\n",
      "[Parallel(n_jobs=1)]: Done   3 out of   3 | elapsed:   15.3s finished\n"
     ]
    },
    {
     "name": "stdout",
     "output_type": "stream",
     "text": [
      "\n",
      "BEST {} 0.437063623508 [mean: 0.43706, std: 0.12250, params: {}]\n",
      "Training classes\n",
      "0.998036006547\n",
      "############# based on standard predict ################\n",
      "Accuracy on training data: 0.9980\n",
      "Accuracy on crossv data:   0.9677\n",
      "########################################################\n",
      "Fitting 3 folds for each of 1 candidates, totalling 3 fits\n",
      "BEST {} 0.811449697959 [mean: 0.81145, std: 0.02549, params: {}]\n",
      "Training classes\n",
      "0.995417348609\n",
      "############# based on standard predict ################\n",
      "Accuracy on training data: 0.9954\n",
      "Accuracy on crossv data:   0.9677\n",
      "########################################################\n",
      "Fitting 3 folds for each of 1 candidates, totalling 3 fits"
     ]
    },
    {
     "name": "stderr",
     "output_type": "stream",
     "text": [
      "[Parallel(n_jobs=1)]: Done   3 out of   3 | elapsed:   17.2s finished\n",
      "[Parallel(n_jobs=1)]: Done   3 out of   3 | elapsed:   26.4s finished\n"
     ]
    },
    {
     "name": "stdout",
     "output_type": "stream",
     "text": [
      "\n",
      "BEST {} 0.0296139920517 [mean: 0.02961, std: 0.09280, params: {}]\n",
      "Training classes\n",
      "0.999018003273\n",
      "############# based on standard predict ################\n",
      "Accuracy on training data: 0.9990\n",
      "Accuracy on crossv data:   0.9677\n",
      "########################################################\n",
      "Fitting 3 folds for each of 1 candidates, totalling 3 fits\n",
      "BEST {} 0.705659234464 [mean: 0.70566, std: 0.08188, params: {}]\n",
      "Training classes\n",
      "0.998363338789\n",
      "############# based on standard predict ################\n",
      "Accuracy on training data: 0.9984\n",
      "Accuracy on crossv data:   1.0000\n",
      "########################################################\n",
      "Wall time: 13min 15s\n"
     ]
    },
    {
     "name": "stderr",
     "output_type": "stream",
     "text": [
      "[Parallel(n_jobs=1)]: Done   3 out of   3 | elapsed:   11.8s finished\n"
     ]
    }
   ],
   "source": [
    "%%time\n",
    "forests = []\n",
    "for lst in y_lists:\n",
    "    clfForest_test, _, _, X_cv, y_cv, best_params = do_classify(clfForestRegressor, parameters, X_, lst, mask=mask, n_folds = 3, n_jobs = 1, verbose=True)\n",
    "    forests.append(clfForest_test)"
   ]
  },
  {
   "cell_type": "code",
   "execution_count": 149,
   "metadata": {
    "collapsed": false
   },
   "outputs": [
    {
     "data": {
      "image/png": "[encoded data removed]",
      "text/plain": [
       "<matplotlib.figure.Figure at 0x14378320>"
      ]
     },
     "metadata": {},
     "output_type": "display_data"
    }
   ],
   "source": [
    "importance_list = clfForest_test.feature_importances_\n",
    "importance_list = sorted(importance_list)\n",
    "sns.set_context(\"paper\", font_scale=1.5)\n",
    "plt.figure(figsize=(12, 9))\n",
    "ax = sns.barplot(y=range(20),x=list(reversed(importance_list))[:20], orient='h', palette=\"Blues_d\")\n",
    "ax.set_xlabel('Relative Importance in the Random Forest')\n",
    "ax.set_ylabel('Features')\n",
    "ax.set_title('Shot Made: Relative Importance of Each Feature')\n",
    "ax.set_yticklabels(list(reversed(name_list)));\n",
    "sns.despine()\n",
    "#plt.savefig('Baseline Relative Importance.png', bbox_inches='tight')"
   ]
  },
  {
   "cell_type": "code",
   "execution_count": 99,
   "metadata": {
    "collapsed": true
   },
   "outputs": [],
   "source": [
    "X_cv, y_cv = X[~mask], y[~mask]"
   ]
  },
  {
   "cell_type": "code",
   "execution_count": 100,
   "metadata": {
    "collapsed": true
   },
   "outputs": [],
   "source": [
    "def predict(preds):\n",
    "    return np.array([np.argmax(p) for p in zip(*np.array(preds))])\n",
    "\n",
    "def accuracy(preds, actual):\n",
    "    return sum([a == b for a,b in zip(preds, actual)]) / float(len(preds))    "
   ]
  },
  {
   "cell_type": "code",
   "execution_count": 102,
   "metadata": {
    "collapsed": false
   },
   "outputs": [],
   "source": [
    "#preds_mat = [f.predict(X_cv) for f in forests]"
   ]
  },
  {
   "cell_type": "code",
   "execution_count": 103,
   "metadata": {
    "collapsed": false
   },
   "outputs": [],
   "source": [
    "#preds = predict(preds_mat)"
   ]
  },
  {
   "cell_type": "code",
   "execution_count": 104,
   "metadata": {
    "collapsed": false
   },
   "outputs": [],
   "source": [
    "#accuracy(preds, y_cv)"
   ]
  },
  {
   "cell_type": "code",
   "execution_count": 66,
   "metadata": {
    "collapsed": false
   },
   "outputs": [
    {
     "name": "stdout",
     "output_type": "stream",
     "text": [
      "Number of datafiles loaded: 3724\n"
     ]
    }
   ],
   "source": [
    "X_test, y_test, ids, _ = functions.create_data_matrix(direc=TEST_DIR, verbose=True, call_list=call_list)"
   ]
  },
  {
   "cell_type": "code",
   "execution_count": 105,
   "metadata": {
    "collapsed": false
   },
   "outputs": [
    {
     "name": "stdout",
     "output_type": "stream",
     "text": [
      "(3724L, 106L)\n"
     ]
    }
   ],
   "source": [
    "print X_test.shape"
   ]
  },
  {
   "cell_type": "code",
   "execution_count": 106,
   "metadata": {
    "collapsed": false
   },
   "outputs": [
    {
     "name": "stdout",
     "output_type": "stream",
     "text": [
      "(3724L, 5672L)\n"
     ]
    }
   ],
   "source": [
    "X_test_ = poly.fit_transform(X_test)\n",
    "print X_test_.shape"
   ]
  },
  {
   "cell_type": "code",
   "execution_count": 107,
   "metadata": {
    "collapsed": false
   },
   "outputs": [],
   "source": [
    "preds_mat_act = [f.predict(X_test_) for f in forests]"
   ]
  },
  {
   "cell_type": "code",
   "execution_count": 114,
   "metadata": {
    "collapsed": false
   },
   "outputs": [],
   "source": [
    "test = pd.DataFrame(preds_mat_act).T"
   ]
  },
  {
   "cell_type": "code",
   "execution_count": 108,
   "metadata": {
    "collapsed": true
   },
   "outputs": [],
   "source": [
    "preds_act = predict(preds_mat_act)"
   ]
  },
  {
   "cell_type": "code",
   "execution_count": 71,
   "metadata": {
    "collapsed": true
   },
   "outputs": [],
   "source": [
    "# We have predictions!!!!"
   ]
  },
  {
   "cell_type": "code",
   "execution_count": 109,
   "metadata": {
    "collapsed": false
   },
   "outputs": [],
   "source": [
    "functions.write_to_file(\"submissions/RandForest_mult_3.csv\", ids, preds_act)"
   ]
  }
 ],
 "metadata": {
  "kernelspec": {
   "display_name": "Python 2",
   "language": "python",
   "name": "python2"
  },
  "language_info": {
   "codemirror_mode": {
    "name": "ipython",
    "version": 2
   },
   "file_extension": ".py",
   "mimetype": "text/x-python",
   "name": "python",
   "nbconvert_exporter": "python",
   "pygments_lexer": "ipython2",
   "version": "2.7.11"
  }
 },
 "nbformat": 4,
 "nbformat_minor": 0
}
