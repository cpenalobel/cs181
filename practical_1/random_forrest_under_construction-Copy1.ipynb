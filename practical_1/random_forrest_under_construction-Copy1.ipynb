{
 "cells": [
  {
   "cell_type": "code",
   "execution_count": 1,
   "metadata": {
    "collapsed": false
   },
   "outputs": [],
   "source": [
    "import pandas as pd\n",
    "import numpy as np\n",
    "import matplotlib.pyplot as plt\n",
    "from sklearn.linear_model import LinearRegression\n",
    "from sklearn.ensemble import RandomForestRegressor, RandomForestClassifier\n",
    "from sklearn.cross_validation import train_test_split\n",
    "from sklearn.grid_search import GridSearchCV\n",
    "from sklearn.metrics import confusion_matrix, mean_squared_error, make_scorer"
   ]
  },
  {
   "cell_type": "code",
   "execution_count": 2,
   "metadata": {
    "collapsed": false
   },
   "outputs": [],
   "source": [
    "#create train and test set\n",
    "def split_mask(dftouse, split_size = 0.7):\n",
    "    itrain, itest = train_test_split(xrange(dftouse.shape[0]), train_size=split_size)\n",
    "    mask=np.ones(dftouse.shape[0], dtype='int')\n",
    "    mask[itrain]=1\n",
    "    mask[itest]=0\n",
    "    mask = (mask==1)\n",
    "    return mask"
   ]
  },
  {
   "cell_type": "code",
   "execution_count": 3,
   "metadata": {
    "collapsed": false
   },
   "outputs": [],
   "source": [
    "def cv_optimize(clf, parameters, X, y, n_jobs, n_folds, score_func, verbose):\n",
    "    gs = GridSearchCV(clf, param_grid=parameters, cv=n_folds, n_jobs=n_jobs, verbose=verbose, scoring=score_func)\n",
    "    gs.fit(X, y)\n",
    "    print \"BEST\", gs.best_params_, gs.best_score_, gs.grid_scores_\n",
    "    best = gs.best_estimator_\n",
    "    return best, gs.best_params_\n",
    "\n",
    "def do_classify(clf, parameters, X, y, mask=None, score_func='f1', n_folds=5, n_jobs=1, verbose=False):\n",
    "    if mask is not None:\n",
    "        mask = split_mask(X)\n",
    "    Xtrain, Xtest, ytrain, ytest = X[mask], X[~mask], y[mask], y[~mask]\n",
    "    clf, best_params_ = cv_optimize(clf, parameters, Xtrain, ytrain, n_jobs=n_jobs, n_folds=n_folds, verbose=verbose, score_func=score_func)\n",
    "    clf=clf.fit(Xtrain, ytrain)\n",
    "    train_preds = clf.predict(Xtrain)\n",
    "    test_preds = clf.predict(Xtest)\n",
    "    training_accuracy = mean_squared_error(ytrain, train_preds)\n",
    "    test_accuracy = mean_squared_error(ytest, test_preds)\n",
    "    print \"############# based on standard predict ################\"\n",
    "    print \"Accuracy on training data: %0.4f\" % (training_accuracy ** 2)\n",
    "    print \"Accuracy on test data:     %0.4f\" % (test_accuracy ** 2)\n",
    "    #print confusion_matrix(ytest, clf.predict(Xtest))\n",
    "    print \"########################################################\"\n",
    "    return clf, Xtrain, ytrain, Xtest, ytest, best_params_"
   ]
  },
  {
   "cell_type": "code",
   "execution_count": 4,
   "metadata": {
    "collapsed": false
   },
   "outputs": [
    {
     "name": "stdout",
     "output_type": "stream",
     "text": [
      "Wall time: 1min 11s\n"
     ]
    }
   ],
   "source": [
    "%%time\n",
    "df_train = pd.read_csv(\"original_data/train.csv\")\n",
    "X = df_train.drop(['smiles'], axis=1)\n",
    "X.drop(['gap'], axis = 1, inplace=True)\n",
    "X_small = X[:10000]"
   ]
  },
  {
   "cell_type": "code",
   "execution_count": 5,
   "metadata": {
    "collapsed": false
   },
   "outputs": [
    {
     "data": {
      "text/html": [
       "<div>\n",
       "<table border=\"1\" class=\"dataframe\">\n",
       "  <thead>\n",
       "    <tr style=\"text-align: right;\">\n",
       "      <th></th>\n",
       "      <th>feat_001</th>\n",
       "      <th>feat_002</th>\n",
       "      <th>feat_003</th>\n",
       "      <th>feat_004</th>\n",
       "      <th>feat_005</th>\n",
       "      <th>feat_006</th>\n",
       "      <th>feat_007</th>\n",
       "      <th>feat_008</th>\n",
       "      <th>feat_009</th>\n",
       "      <th>feat_010</th>\n",
       "      <th>...</th>\n",
       "      <th>feat_247</th>\n",
       "      <th>feat_248</th>\n",
       "      <th>feat_249</th>\n",
       "      <th>feat_250</th>\n",
       "      <th>feat_251</th>\n",
       "      <th>feat_252</th>\n",
       "      <th>feat_253</th>\n",
       "      <th>feat_254</th>\n",
       "      <th>feat_255</th>\n",
       "      <th>feat_256</th>\n",
       "    </tr>\n",
       "  </thead>\n",
       "  <tbody>\n",
       "    <tr>\n",
       "      <th>0</th>\n",
       "      <td>0</td>\n",
       "      <td>0</td>\n",
       "      <td>0</td>\n",
       "      <td>0</td>\n",
       "      <td>1</td>\n",
       "      <td>0</td>\n",
       "      <td>1</td>\n",
       "      <td>0</td>\n",
       "      <td>0</td>\n",
       "      <td>0</td>\n",
       "      <td>...</td>\n",
       "      <td>0</td>\n",
       "      <td>1</td>\n",
       "      <td>0</td>\n",
       "      <td>0</td>\n",
       "      <td>0</td>\n",
       "      <td>0</td>\n",
       "      <td>0</td>\n",
       "      <td>0</td>\n",
       "      <td>0</td>\n",
       "      <td>0</td>\n",
       "    </tr>\n",
       "    <tr>\n",
       "      <th>1</th>\n",
       "      <td>1</td>\n",
       "      <td>0</td>\n",
       "      <td>0</td>\n",
       "      <td>0</td>\n",
       "      <td>1</td>\n",
       "      <td>0</td>\n",
       "      <td>1</td>\n",
       "      <td>0</td>\n",
       "      <td>0</td>\n",
       "      <td>0</td>\n",
       "      <td>...</td>\n",
       "      <td>0</td>\n",
       "      <td>1</td>\n",
       "      <td>0</td>\n",
       "      <td>0</td>\n",
       "      <td>1</td>\n",
       "      <td>0</td>\n",
       "      <td>0</td>\n",
       "      <td>0</td>\n",
       "      <td>0</td>\n",
       "      <td>0</td>\n",
       "    </tr>\n",
       "    <tr>\n",
       "      <th>2</th>\n",
       "      <td>1</td>\n",
       "      <td>0</td>\n",
       "      <td>0</td>\n",
       "      <td>0</td>\n",
       "      <td>1</td>\n",
       "      <td>1</td>\n",
       "      <td>1</td>\n",
       "      <td>0</td>\n",
       "      <td>0</td>\n",
       "      <td>0</td>\n",
       "      <td>...</td>\n",
       "      <td>0</td>\n",
       "      <td>1</td>\n",
       "      <td>0</td>\n",
       "      <td>0</td>\n",
       "      <td>0</td>\n",
       "      <td>1</td>\n",
       "      <td>0</td>\n",
       "      <td>0</td>\n",
       "      <td>0</td>\n",
       "      <td>0</td>\n",
       "    </tr>\n",
       "    <tr>\n",
       "      <th>3</th>\n",
       "      <td>1</td>\n",
       "      <td>0</td>\n",
       "      <td>0</td>\n",
       "      <td>0</td>\n",
       "      <td>1</td>\n",
       "      <td>1</td>\n",
       "      <td>1</td>\n",
       "      <td>0</td>\n",
       "      <td>0</td>\n",
       "      <td>0</td>\n",
       "      <td>...</td>\n",
       "      <td>0</td>\n",
       "      <td>1</td>\n",
       "      <td>0</td>\n",
       "      <td>0</td>\n",
       "      <td>0</td>\n",
       "      <td>1</td>\n",
       "      <td>0</td>\n",
       "      <td>0</td>\n",
       "      <td>0</td>\n",
       "      <td>0</td>\n",
       "    </tr>\n",
       "    <tr>\n",
       "      <th>4</th>\n",
       "      <td>0</td>\n",
       "      <td>0</td>\n",
       "      <td>0</td>\n",
       "      <td>0</td>\n",
       "      <td>1</td>\n",
       "      <td>0</td>\n",
       "      <td>1</td>\n",
       "      <td>0</td>\n",
       "      <td>0</td>\n",
       "      <td>0</td>\n",
       "      <td>...</td>\n",
       "      <td>0</td>\n",
       "      <td>1</td>\n",
       "      <td>0</td>\n",
       "      <td>0</td>\n",
       "      <td>0</td>\n",
       "      <td>0</td>\n",
       "      <td>0</td>\n",
       "      <td>0</td>\n",
       "      <td>0</td>\n",
       "      <td>0</td>\n",
       "    </tr>\n",
       "  </tbody>\n",
       "</table>\n",
       "<p>5 rows × 256 columns</p>\n",
       "</div>"
      ],
      "text/plain": [
       "   feat_001  feat_002  feat_003  feat_004  feat_005  feat_006  feat_007  \\\n",
       "0         0         0         0         0         1         0         1   \n",
       "1         1         0         0         0         1         0         1   \n",
       "2         1         0         0         0         1         1         1   \n",
       "3         1         0         0         0         1         1         1   \n",
       "4         0         0         0         0         1         0         1   \n",
       "\n",
       "   feat_008  feat_009  feat_010    ...     feat_247  feat_248  feat_249  \\\n",
       "0         0         0         0    ...            0         1         0   \n",
       "1         0         0         0    ...            0         1         0   \n",
       "2         0         0         0    ...            0         1         0   \n",
       "3         0         0         0    ...            0         1         0   \n",
       "4         0         0         0    ...            0         1         0   \n",
       "\n",
       "   feat_250  feat_251  feat_252  feat_253  feat_254  feat_255  feat_256  \n",
       "0         0         0         0         0         0         0         0  \n",
       "1         0         1         0         0         0         0         0  \n",
       "2         0         0         1         0         0         0         0  \n",
       "3         0         0         1         0         0         0         0  \n",
       "4         0         0         0         0         0         0         0  \n",
       "\n",
       "[5 rows x 256 columns]"
      ]
     },
     "execution_count": 5,
     "metadata": {},
     "output_type": "execute_result"
    }
   ],
   "source": [
    "X.head()"
   ]
  },
  {
   "cell_type": "code",
   "execution_count": 6,
   "metadata": {
    "collapsed": false
   },
   "outputs": [
    {
     "name": "stdout",
     "output_type": "stream",
     "text": [
      "Wall time: 858 ms\n"
     ]
    }
   ],
   "source": [
    "%%time\n",
    "\"\"\"\n",
    "Import y-values\n",
    "\"\"\"\n",
    "y = pd.read_csv(\"original_data/data_gaps.csv\", index_col=0)\n",
    "y_small = y.loc[X_small.index,:]"
   ]
  },
  {
   "cell_type": "code",
   "execution_count": 7,
   "metadata": {
    "collapsed": false
   },
   "outputs": [
    {
     "name": "stdout",
     "output_type": "stream",
     "text": [
      "(10000, 256)\n",
      "(10000, 1)\n"
     ]
    }
   ],
   "source": [
    "print X_small.shape\n",
    "print y_small.shape"
   ]
  },
  {
   "cell_type": "code",
   "execution_count": 10,
   "metadata": {
    "collapsed": false
   },
   "outputs": [],
   "source": [
    "clfForest = RandomForestRegressor()\n",
    "parameters = {\n",
    "#    \"n_estimators\" : [100],\n",
    "    \"n_estimators\" : [50,100,200,400],\n",
    "#    \"max_depth\": [25]\n",
    "    \"max_depth\": [50,100,200, None]\n",
    "}"
   ]
  },
  {
   "cell_type": "code",
   "execution_count": 11,
   "metadata": {
    "collapsed": false,
    "scrolled": true
   },
   "outputs": [
    {
     "name": "stdout",
     "output_type": "stream",
     "text": [
      "Fitting 3 folds for each of 16 candidates, totalling 48 fits\n",
      "BEST {'n_estimators': 200, 'max_depth': 100} -0.085361434656 [mean: -0.08562, std: 0.00133, params: {'n_estimators': 50, 'max_depth': 50}, mean: -0.08544, std: 0.00127, params: {'n_estimators': 100, 'max_depth': 50}, mean: -0.08553, std: 0.00147, params: {'n_estimators': 200, 'max_depth': 50}, mean: -0.08558, std: 0.00147, params: {'n_estimators': 400, 'max_depth': 50}, mean: -0.08587, std: 0.00142, params: {'n_estimators': 50, 'max_depth': 100}, mean: -0.08563, std: 0.00128, params: {'n_estimators': 100, 'max_depth': 100}, mean: -0.08536, std: 0.00135, params: {'n_estimators': 200, 'max_depth': 100}, mean: -0.08554, std: 0.00141, params: {'n_estimators': 400, 'max_depth': 100}, mean: -0.08569, std: 0.00153, params: {'n_estimators': 50, 'max_depth': 200}, mean: -0.08550, std: 0.00148, params: {'n_estimators': 100, 'max_depth': 200}, mean: -0.08543, std: 0.00151, params: {'n_estimators': 200, 'max_depth': 200}, mean: -0.08544, std: 0.00139, params: {'n_estimators': 400, 'max_depth': 200}, mean: -0.08609, std: 0.00142, params: {'n_estimators': 50, 'max_depth': None}, mean: -0.08575, std: 0.00151, params: {'n_estimators': 100, 'max_depth': None}, mean: -0.08542, std: 0.00140, params: {'n_estimators': 200, 'max_depth': None}, mean: -0.08546, std: 0.00133, params: {'n_estimators': 400, 'max_depth': None}]\n",
      "############# based on standard predict ################\n",
      "Accuracy on training data: 0.0045\n",
      "Accuracy on test data:     0.0066\n",
      "########################################################\n",
      "Wall time: 3min 28s\n"
     ]
    },
    {
     "name": "stderr",
     "output_type": "stream",
     "text": [
      "[Parallel(n_jobs=1)]: Done  48 out of  48 | elapsed:  3.3min finished\n"
     ]
    }
   ],
   "source": [
    "%%time\n",
    "clfForest_, _, _, _, _, best_params_ = do_classify(clfForest, parameters, X_small, np.array(y_small.gap), \n",
    "                                                   mask=split_mask(X_small), n_folds = 3, n_jobs = 1, \n",
    "                                                   verbose=True, score_func='mean_squared_error')"
   ]
  },
  {
   "cell_type": "code",
   "execution_count": 12,
   "metadata": {
    "collapsed": false
   },
   "outputs": [],
   "source": [
    "best_params_ = {k:[v] for k,v in best_params_.iteritems()}"
   ]
  },
  {
   "cell_type": "code",
   "execution_count": 13,
   "metadata": {
    "collapsed": false
   },
   "outputs": [],
   "source": [
    "%xdel X_small\n",
    "%xdel y_small"
   ]
  },
  {
   "cell_type": "code",
   "execution_count": 14,
   "metadata": {
    "collapsed": false
   },
   "outputs": [
    {
     "name": "stdout",
     "output_type": "stream",
     "text": [
      "(1000000, 1)\n",
      "(1000000, 256)\n"
     ]
    }
   ],
   "source": [
    "print y.shape\n",
    "print X.shape"
   ]
  },
  {
   "cell_type": "code",
   "execution_count": null,
   "metadata": {
    "collapsed": false
   },
   "outputs": [],
   "source": [
    "%%time\n",
    "clfForest, _, _, _, _, _ = do_classify(clfForest, best_params_, X, np.array(y.gap), mask=split_mask(X),\n",
    "                                                                   n_folds = 3, n_jobs = 1, score_func='mean_squared_error')"
   ]
  },
  {
   "cell_type": "code",
   "execution_count": null,
   "metadata": {
    "collapsed": true
   },
   "outputs": [],
   "source": [
    "%xdel X\n",
    "%xdel y"
   ]
  },
  {
   "cell_type": "code",
   "execution_count": null,
   "metadata": {
    "collapsed": true
   },
   "outputs": [],
   "source": [
    "test = pd.read_csv(\"original_data/test.csv\").drop(['smiles'], axis=1)"
   ]
  },
  {
   "cell_type": "code",
   "execution_count": null,
   "metadata": {
    "collapsed": false
   },
   "outputs": [],
   "source": [
    "def write_to_file(filename, predictions):\n",
    "    with open(filename, \"w\") as f:\n",
    "        f.write(\"Id,Prediction\\n\")\n",
    "        for i,p in enumerate(predictions):\n",
    "            f.write(str(i+1) + \",\" + str(p) + \"\\n\")"
   ]
  },
  {
   "cell_type": "code",
   "execution_count": null,
   "metadata": {
    "collapsed": true
   },
   "outputs": [],
   "source": [
    "preds = clfForest.predict(test)\n",
    "write_to_file(\"submissions/RF_3.csv\", preds)"
   ]
  }
 ],
 "metadata": {
  "kernelspec": {
   "display_name": "Python 2",
   "language": "python",
   "name": "python2"
  },
  "language_info": {
   "codemirror_mode": {
    "name": "ipython",
    "version": 2
   },
   "file_extension": ".py",
   "mimetype": "text/x-python",
   "name": "python",
   "nbconvert_exporter": "python",
   "pygments_lexer": "ipython2",
   "version": "2.7.11"
  }
 },
 "nbformat": 4,
 "nbformat_minor": 0
}
