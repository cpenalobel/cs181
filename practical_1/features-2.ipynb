{
 "cells": [
  {
   "cell_type": "code",
   "execution_count": 1,
   "metadata": {
    "collapsed": false
   },
   "outputs": [],
   "source": [
    "import pandas as pd\n",
    "import numpy as np\n",
    "from sklearn.cross_validation import train_test_split\n",
    "from __future__ import print_function\n",
    "from rdkit import Chem\n",
    "from rdkit import Avalon\n",
    "from rdkit.Avalon import pyAvalonTools"
   ]
  },
  {
   "cell_type": "code",
   "execution_count": 2,
   "metadata": {
    "collapsed": false
   },
   "outputs": [],
   "source": [
    "\"\"\"\n",
    "Read in train and test as Pandas DataFrames\n",
    "\"\"\"\n",
    "df_test = pd.read_csv(\"original_data/test.gz\", usecols=[1])"
   ]
  },
  {
   "cell_type": "code",
   "execution_count": 3,
   "metadata": {
    "collapsed": true
   },
   "outputs": [],
   "source": [
    "noFeatures = 1024\n",
    "fingerprinter=lambda x,y:pyAvalonTools.GetAvalonCountFP(x,noFeatures,isQuery=y,bitFlags=pyAvalonTools.avalonSSSBits)"
   ]
  },
  {
   "cell_type": "code",
   "execution_count": 4,
   "metadata": {
    "collapsed": false
   },
   "outputs": [],
   "source": [
    "def addFeatures_list(df, name = 'test', splits=2, noFeatures=noFeatures):\n",
    "    for s in range(1,splits+1):\n",
    "        temp = []\n",
    "        df_ = df[df.shape[0]*(s-1)/splits:df.shape[0]*(s)/splits]\n",
    "        for i, smile in zip(df_.index, df_['smiles']):\n",
    "            if not i % 2500:\n",
    "                print (i, end=\"\\r\")\n",
    "            temp.append([smile]+list(fingerprinter(Chem.MolFromSmiles(df_.smiles[i]), False)))\n",
    "        df_features = pd.DataFrame(temp, columns=['smiles']+range(1024))\n",
    "        df_features.to_csv('edited_data/'+str(noFeatures)+'_features/'+name+'_'+str(noFeatures)+'_'+str(s)+'.csv')"
   ]
  },
  {
   "cell_type": "code",
   "execution_count": 5,
   "metadata": {
    "collapsed": false
   },
   "outputs": [
    {
     "name": "stdout",
     "output_type": "stream",
     "text": [
      "Wall time: 1h 10min 22s\n"
     ]
    }
   ],
   "source": [
    "%%time\n",
    "addFeatures_list(df_test, splits = 3)"
   ]
  }
 ],
 "metadata": {
  "kernelspec": {
   "display_name": "Python 2",
   "language": "python",
   "name": "python2"
  },
  "language_info": {
   "codemirror_mode": {
    "name": "ipython",
    "version": 2
   },
   "file_extension": ".py",
   "mimetype": "text/x-python",
   "name": "python",
   "nbconvert_exporter": "python",
   "pygments_lexer": "ipython2",
   "version": "2.7.11"
  }
 },
 "nbformat": 4,
 "nbformat_minor": 0
}
