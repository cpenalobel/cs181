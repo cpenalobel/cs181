{
 "cells": [
  {
   "cell_type": "code",
   "execution_count": 1,
   "metadata": {
    "collapsed": false
   },
   "outputs": [],
   "source": [
    "import pandas as pd\n",
    "import numpy as np\n",
    "from sklearn.cross_validation import train_test_split\n",
    "from __future__ import print_function\n",
    "from rdkit import Chem\n",
    "from rdkit import Avalon\n",
    "from rdkit.Avalon import pyAvalonTools"
   ]
  },
  {
   "cell_type": "code",
   "execution_count": 2,
   "metadata": {
    "collapsed": false
   },
   "outputs": [],
   "source": [
    "\"\"\"\n",
    "Read in train and test as Pandas DataFrames\n",
    "\"\"\"\n",
    "df_test = pd.read_csv(\"original_data/test.gz\", usecols=[1])"
   ]
  },
  {
   "cell_type": "code",
   "execution_count": 3,
   "metadata": {
    "collapsed": true
   },
   "outputs": [],
   "source": [
    "noFeatures = 1024\n",
    "fingerprinter=lambda x,y:pyAvalonTools.GetAvalonCountFP(x,noFeatures,isQuery=y,bitFlags=pyAvalonTools.avalonSSSBits)"
   ]
  },
  {
   "cell_type": "code",
   "execution_count": 4,
   "metadata": {
    "collapsed": true
   },
   "outputs": [],
   "source": [
    "def addFeatures_list(df_):\n",
    "    temp = []\n",
    "    for i, smile in enumerate(df_['smiles']):\n",
    "        if not i % 2500:\n",
    "            print (i, end=\"\\r\")\n",
    "        temp.append([smile]+list(fingerprinter(Chem.MolFromSmiles(df_.smiles[i]), False)))\n",
    "    return pd.DataFrame(temp, columns=['smiles']+range(1024))"
   ]
  },
  {
   "cell_type": "code",
   "execution_count": null,
   "metadata": {
    "collapsed": false
   },
   "outputs": [
    {
     "name": "stdout",
     "output_type": "stream",
     "text": [
      "10000"
     ]
    }
   ],
   "source": [
    "%%time\n",
    "df_test_features = addFeatures_list(df_test)\n",
    "print (df_test_features.shape)"
   ]
  },
  {
   "cell_type": "code",
   "execution_count": null,
   "metadata": {
    "collapsed": true
   },
   "outputs": [],
   "source": [
    "df_test_features.to_csv('edited_data/1024_features/test_1024.csv')"
   ]
  }
 ],
 "metadata": {
  "kernelspec": {
   "display_name": "Python 2",
   "language": "python",
   "name": "python2"
  },
  "language_info": {
   "codemirror_mode": {
    "name": "ipython",
    "version": 2
   },
   "file_extension": ".py",
   "mimetype": "text/x-python",
   "name": "python",
   "nbconvert_exporter": "python",
   "pygments_lexer": "ipython2",
   "version": "2.7.11"
  }
 },
 "nbformat": 4,
 "nbformat_minor": 0
}
