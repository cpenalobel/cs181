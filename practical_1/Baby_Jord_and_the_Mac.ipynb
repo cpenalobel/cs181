{
 "cells": [
  {
   "cell_type": "code",
   "execution_count": 2,
   "metadata": {
    "collapsed": false
   },
   "outputs": [],
   "source": [
    "from importCSV import sampleFiles"
   ]
  },
  {
   "cell_type": "code",
   "execution_count": 3,
   "metadata": {
    "collapsed": false
   },
   "outputs": [],
   "source": [
    "import pandas as pd\n",
    "import numpy as np\n",
    "import matplotlib.pyplot as plt\n",
    "from sklearn.linear_model import LinearRegression\n",
    "from sklearn.ensemble import RandomForestRegressor, RandomForestClassifier\n",
    "from sklearn.cross_validation import train_test_split\n",
    "from sklearn.grid_search import GridSearchCV\n",
    "from sklearn.metrics import confusion_matrix, mean_squared_error, make_scorer"
   ]
  },
  {
   "cell_type": "code",
   "execution_count": 4,
   "metadata": {
    "collapsed": false
   },
   "outputs": [],
   "source": [
    "#create train and test set\n",
    "def split_mask(dftouse, split_size = 0.7):\n",
    "    itrain, itest = train_test_split(xrange(dftouse.shape[0]), train_size=split_size)\n",
    "    mask=np.ones(dftouse.shape[0], dtype='int')\n",
    "    mask[itrain]=1\n",
    "    mask[itest]=0\n",
    "    mask = (mask==1)\n",
    "    return mask"
   ]
  },
  {
   "cell_type": "code",
   "execution_count": 5,
   "metadata": {
    "collapsed": false
   },
   "outputs": [],
   "source": [
    "def cv_optimize(clf, parameters, X, y, n_jobs, n_folds, score_func, verbose):\n",
    "    gs = GridSearchCV(clf, param_grid=parameters, cv=n_folds, n_jobs=n_jobs, verbose=verbose, scoring=score_func)\n",
    "    gs.fit(X, y)\n",
    "    print \"BEST\", gs.best_params_, gs.best_score_, gs.grid_scores_\n",
    "    best = gs.best_estimator_\n",
    "    return best, gs.best_params_\n",
    "\n",
    "def do_classify(clf, parameters, X, y, mask=None, score_func='f1', n_folds=5, n_jobs=1, verbose=False):\n",
    "    if mask is not None:\n",
    "        mask = split_mask(X)\n",
    "    Xtrain, Xtest, ytrain, ytest = X[mask], X[~mask], y[mask], y[~mask]\n",
    "    clf, best_params_ = cv_optimize(clf, parameters, Xtrain, ytrain, n_jobs=n_jobs, n_folds=n_folds, verbose=verbose, score_func=score_func)\n",
    "    clf=clf.fit(Xtrain, ytrain)\n",
    "    train_preds = clf.predict(Xtrain)\n",
    "    test_preds = clf.predict(Xtest)\n",
    "    training_accuracy = mean_squared_error(ytrain, train_preds)\n",
    "    test_accuracy = mean_squared_error(ytest, test_preds)\n",
    "    print \"############# based on standard predict ################\"\n",
    "    print \"Accuracy on training data: %0.4f\" % (training_accuracy ** 2)\n",
    "    print \"Accuracy on test data:     %0.4f\" % (test_accuracy ** 2)\n",
    "    #print confusion_matrix(ytest, clf.predict(Xtest))\n",
    "    print \"########################################################\"\n",
    "    return clf, Xtrain, ytrain, Xtest, ytest, best_params_"
   ]
  },
  {
   "cell_type": "code",
   "execution_count": 5,
   "metadata": {
    "collapsed": false
   },
   "outputs": [
    {
     "name": "stdout",
     "output_type": "stream",
     "text": [
      "Wall time: 753 ms\n"
     ]
    }
   ],
   "source": [
    "%%time\n",
    "\"\"\"\n",
    "Import small dataset\n",
    "\"\"\"\n",
    "df_train_small, df_cv = sampleFiles(250, 100)\n",
    "X_small = df_train_small.drop(['smiles'], axis=1)\n",
    "X_cv = df_cv.drop(['smiles'], axis=1)"
   ]
  },
  {
   "cell_type": "code",
   "execution_count": 6,
   "metadata": {
    "collapsed": false
   },
   "outputs": [
    {
     "name": "stdout",
     "output_type": "stream",
     "text": [
      "Wall time: 508 ms\n"
     ]
    }
   ],
   "source": [
    "%%time\n",
    "\"\"\"\n",
    "Import y-values\n",
    "\"\"\"\n",
    "df_train_gaps = pd.read_csv(\"original_data/data_gaps.csv\", index_col=0)\n",
    "y_small = df_train_gaps.loc[X_small.index,:]\n",
    "y_cv = df_train_gaps.loc[X_cv.index,:]"
   ]
  },
  {
   "cell_type": "code",
   "execution_count": 7,
   "metadata": {
    "collapsed": false
   },
   "outputs": [
    {
     "name": "stdout",
     "output_type": "stream",
     "text": [
      "(2000, 1024)\n",
      "(2000, 1)\n"
     ]
    }
   ],
   "source": [
    "print X_small.shape\n",
    "print y_small.shape"
   ]
  },
  {
   "cell_type": "code",
   "execution_count": 8,
   "metadata": {
    "collapsed": false
   },
   "outputs": [],
   "source": [
    "clfForest = RandomForestRegressor()\n",
    "parameters = {\n",
    "#    \"n_estimators\" : [100],\n",
    "#    \"n_estimators\" : [100,200,400,800,1600],\n",
    "    #\"n_estimators\" : range(1, 21),\n",
    "#    \"max_depth\": [25]\n",
    "#    \"max_depth\": [25,50,100,200,400]\n",
    "}"
   ]
  },
  {
   "cell_type": "code",
   "execution_count": 10,
   "metadata": {
    "collapsed": false,
    "scrolled": true
   },
   "outputs": [
    {
     "name": "stdout",
     "output_type": "stream",
     "text": [
      "Fitting 3 folds for each of 1 candidates, totalling 3 fits\n",
      "BEST {'n_estimators': 100, 'max_depth': 25} -0.183569773247 [mean: -0.18357, std: 0.01425, params: {'n_estimators': 100, 'max_depth': 25}]\n",
      "############# based on standard predict ################\n",
      "Accuracy on training data: 0.0007\n",
      "Accuracy on test data:     0.0267\n",
      "########################################################\n",
      "Wall time: 2min 23s\n"
     ]
    },
    {
     "name": "stderr",
     "output_type": "stream",
     "text": [
      "[Parallel(n_jobs=1)]: Done   3 out of   3 | elapsed:  1.1min finished\n"
     ]
    }
   ],
   "source": [
    "%%time\n",
    "clfForest, _, _, _, _, best_params_ = do_classify(clfForest, parameters, X_small, np.array(y_small.gap), \n",
    "                                                   mask=split_mask(X_small), n_folds = 3, n_jobs = 1, \n",
    "                                                   verbose=True, score_func='mean_squared_error')"
   ]
  },
  {
   "cell_type": "code",
   "execution_count": 31,
   "metadata": {
    "collapsed": false
   },
   "outputs": [
    {
     "name": "stdout",
     "output_type": "stream",
     "text": [
      "0.0292235875358\n",
      "Wall time: 10.7 s\n"
     ]
    }
   ],
   "source": [
    "%%time\n",
    "preds = clfForest.predict(X_cv)\n",
    "print mean_squared_error(preds, np.array(y_cv)) ** 2"
   ]
  },
  {
   "cell_type": "code",
   "execution_count": 13,
   "metadata": {
    "collapsed": true
   },
   "outputs": [],
   "source": [
    "def getTest():\n",
    "    running = 1\n",
    "    while running:\n",
    "        try:\n",
    "            print 'edited_data/1024_features/test_1024_'+str(running)+'.csv'\n",
    "            data = pd.read_csv('edited_data/1024_features/test_1024_'+str(running)+'.csv', index_col=0)\n",
    "        except IOError:\n",
    "            running = 0\n",
    "        else:\n",
    "            try:\n",
    "                data_final = pd.concat([data_final, data])\n",
    "            except UnboundLocalError:\n",
    "                data_final = data\n",
    "    return data_final.drop(['smiles'], axis=1)"
   ]
  },
  {
   "cell_type": "code",
   "execution_count": 32,
   "metadata": {
    "collapsed": false
   },
   "outputs": [],
   "source": [
    "def write_to_file(filename, predictions):\n",
    "    with open(filename, \"w\") as f:\n",
    "        f.write(\"Id,Prediction\\n\")\n",
    "        for i,p in enumerate(predictions):\n",
    "            f.write(str(i+1) + \",\" + str(p) + \"\\n\")"
   ]
  },
  {
   "cell_type": "code",
   "execution_count": null,
   "metadata": {
    "collapsed": true
   },
   "outputs": [],
   "source": [
    "%xdel df_train_small\n",
    "%xdel df_train_gaps\n",
    "%xdel X_cv\n",
    "%xdel y_cv\n",
    "%xdel X_small\n",
    "%xdel y_small\n",
    "%xdel df_cv"
   ]
  },
  {
   "cell_type": "code",
   "execution_count": null,
   "metadata": {
    "collapsed": true
   },
   "outputs": [],
   "source": [
    "preds = clfForest.predict(getTest())\n",
    "write_to_file(\"submissions/RF_2.csv\", preds)"
   ]
  }
 ],
 "metadata": {
  "kernelspec": {
   "display_name": "Python 2",
   "language": "python",
   "name": "python2"
  },
  "language_info": {
   "codemirror_mode": {
    "name": "ipython",
    "version": 2
   },
   "file_extension": ".py",
   "mimetype": "text/x-python",
   "name": "python",
   "nbconvert_exporter": "python",
   "pygments_lexer": "ipython2",
   "version": "2.7.11"
  }
 },
 "nbformat": 4,
 "nbformat_minor": 0
}
